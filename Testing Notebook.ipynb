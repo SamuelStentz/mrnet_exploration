{
 "cells": [
  {
   "cell_type": "code",
   "execution_count": 6,
   "metadata": {},
   "outputs": [],
   "source": [
    "import torch\n",
    "import torch.nn as nn\n",
    "import os\n",
    "import numpy as np\n",
    "import matplotlib.pyplot as plt\n",
    "from train import train\n",
    "from architechtures.mrnet_model import MRNet\n",
    "from architechtures.transformer_model import TRANNet"
   ]
  },
  {
   "cell_type": "code",
   "execution_count": 7,
   "metadata": {},
   "outputs": [
    {
     "data": {
      "text/plain": [
       "'1.5.0'"
      ]
     },
     "execution_count": 7,
     "metadata": {},
     "output_type": "execute_result"
    }
   ],
   "source": [
    "torch.__version__"
   ]
  },
  {
   "cell_type": "code",
   "execution_count": 22,
   "metadata": {},
   "outputs": [
    {
     "name": "stdout",
     "output_type": "stream",
     "text": [
      "The autoreload extension is already loaded. To reload it, use:\n",
      "  %reload_ext autoreload\n"
     ]
    }
   ],
   "source": [
    "# reimport modules block\n",
    "%load_ext autoreload\n",
    "%autoreload 2"
   ]
  },
  {
   "cell_type": "code",
   "execution_count": null,
   "metadata": {},
   "outputs": [
    {
     "name": "stdout",
     "output_type": "stream",
     "text": [
      "starting epoch 1. time passed: 0:00:00.000013\n"
     ]
    }
   ],
   "source": [
    "train(rundir=\"models/transformer\", diagnosis=0, epochs=10, model_type=1)"
   ]
  },
  {
   "cell_type": "code",
   "execution_count": 16,
   "metadata": {},
   "outputs": [
    {
     "name": "stdout",
     "output_type": "stream",
     "text": [
      "torch.Size([10, 256])\n"
     ]
    },
    {
     "data": {
      "text/plain": [
       "tensor([[0.2533]], grad_fn=<AddmmBackward>)"
      ]
     },
     "execution_count": 16,
     "metadata": {},
     "output_type": "execute_result"
    }
   ],
   "source": [
    "x = torch.zeros(size = (1,10,3,255,255)) # input should be Batch,Slice,colors,255,255\n",
    "model = TRANNet()\n",
    "model.forward(x)"
   ]
  },
  {
   "cell_type": "code",
   "execution_count": 22,
   "metadata": {},
   "outputs": [],
   "source": [
    "code_block = \"\"\"x = torch.zeros(size = (1,10,3,255,255)) # input should be Batch,Slice,colors,255,255\n",
    "model = MRNet()\n",
    "model.forward(x)\"\"\"\n",
    "ouput = \"\"\"torch.Size([1, 10, 3, 255, 255])\n",
    "torch.Size([10, 3, 255, 255])\n",
    "torch.Size([10, 256, 7, 7])\n",
    "torch.Size([10, 256])\n",
    "torch.Size([1, 256])\n",
    "torch.Size([1, 1])\n",
    "output, tensor([[0.0556]], grad_fn=<ThAddmmBackward>)\"\"\""
   ]
  }
 ],
 "metadata": {
  "kernelspec": {
   "display_name": "Python [conda env:pytorch]",
   "language": "python",
   "name": "conda-env-pytorch-py"
  }
 },
 "nbformat": 4,
 "nbformat_minor": 4
}
